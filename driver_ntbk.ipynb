{
  "nbformat": 4,
  "nbformat_minor": 0,
  "metadata": {
    "colab": {
      "provenance": []
    },
    "kernelspec": {
      "name": "python3",
      "display_name": "Python 3"
    },
    "language_info": {
      "name": "python"
    }
  },
  "cells": [
    {
      "cell_type": "code",
      "execution_count": 1,
      "metadata": {
        "id": "lUr9WIfemPK6"
      },
      "outputs": [],
      "source": [
        "!pip install import-ipynb --quiet"
      ]
    },
    {
      "cell_type": "code",
      "source": [
        "# Mount My notebook\n",
        "from google.colab import drive\n",
        "drive.mount(\"mnt\")\n",
        "%cd \"mnt/[path to utils notebook in Google Drive]\"\n",
        "# since \"mnt\" is the name of the mount that has to be the first part of the path"
      ],
      "metadata": {
        "id": "wHlwvuEnm-wx"
      },
      "execution_count": null,
      "outputs": []
    },
    {
      "cell_type": "code",
      "source": [
        "import import_ipynb #This import statement is needed for the next one\n",
        "from utils_ntbk import retrieve_worksheet\n",
        "import pandas as pd"
      ],
      "metadata": {
        "id": "pkeSltMDm_Lf"
      },
      "execution_count": null,
      "outputs": []
    },
    {
      "cell_type": "code",
      "source": [
        "url = \"INSERT\"\n",
        "ws_name = \"INSERT\"\n",
        "\n",
        "df = retrieve_worksheet(url, ws_name)"
      ],
      "metadata": {
        "id": "eMDpH2CasI4C"
      },
      "execution_count": 16,
      "outputs": []
    },
    {
      "cell_type": "code",
      "source": [
        "display(df)"
      ],
      "metadata": {
        "id": "JW5jwBNBvnZs"
      },
      "execution_count": null,
      "outputs": []
    }
  ]
}