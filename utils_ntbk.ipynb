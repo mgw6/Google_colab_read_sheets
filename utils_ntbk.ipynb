{
  "nbformat": 4,
  "nbformat_minor": 0,
  "metadata": {
    "colab": {
      "provenance": []
    },
    "kernelspec": {
      "name": "python3",
      "display_name": "Python 3"
    },
    "language_info": {
      "name": "python"
    }
  },
  "cells": [
    {
      "cell_type": "code",
      "source": [
        "import pandas as pd\n",
        "\n",
        "# Colab necessary imports\n",
        "from google.colab import auth\n",
        "import gspread\n",
        "from google.auth import default"
      ],
      "metadata": {
        "id": "0p2pP6cTm03x"
      },
      "execution_count": 6,
      "outputs": []
    },
    {
      "cell_type": "code",
      "source": [
        "auth.authenticate_user()\n",
        "creds, _ = default()\n",
        "gc = gspread.authorize(creds)"
      ],
      "metadata": {
        "id": "9LqVurx7pwtq"
      },
      "execution_count": 7,
      "outputs": []
    },
    {
      "cell_type": "code",
      "execution_count": 10,
      "metadata": {
        "id": "thlDnbWNmSiV"
      },
      "outputs": [],
      "source": [
        "\"\"\"\n",
        "The gspread function enables users to quickly load a google sheet and convert it to a Pandas Dataframe\n",
        "\n",
        "Inputs:\n",
        "    spreadsheet_url: The url of the Google sheet that you want to use\n",
        "    sheet_name: The name of the worksheet in the spreadsheet file. If None then the function will check to\n",
        "        see if there is only one sheet in the file. If there is only one sheet in the file then the function returns that sheet.\n",
        "        If there are multiple worksheets in the file and none is specified an error is raised.\n",
        "        Defaults to None\n",
        "\n",
        "Returns:\n",
        "    pd.Dataframe: A Pandas dataframe of the desired worksheet.\n",
        "\"\"\"\n",
        "def retrieve_worksheet(spreadsheet_url: str, sheet_name: str = None) -> pd.DataFrame:\n",
        "    file = gc.open_by_url(spreadsheet_url)\n",
        "\n",
        "    if sheet_name:# Name given so lets get it\n",
        "          ws = file.worksheet(sheet_name)\n",
        "    elif not sheet_name and len(file.worksheets()) == 1:\n",
        "        # There are multiple worksheets and one isn't specified\n",
        "        ws = file.get_worksheet(0)\n",
        "    else: # There is only one sheet\n",
        "        raise Exception(\"Worksheet name not specified!\")\n",
        "\n",
        "    ws_df = pd.DataFrame(ws.get_all_values())\n",
        "    ws_df.columns = ws_df.iloc[0] # Extract header\n",
        "    return ws_df[1:].reset_index(drop = True)\n"
      ]
    }
  ]
}