{
  "nbformat": 4,
  "nbformat_minor": 0,
  "metadata": {
    "colab": {
      "provenance": []
    },
    "kernelspec": {
      "name": "python3",
      "display_name": "Python 3"
    },
    "language_info": {
      "name": "python"
    }
  },
  "cells": [
    {
      "cell_type": "markdown",
      "source": [
        "# Loading Spreadsheets into Google Colab\n",
        "\n",
        "Reference:\n",
        "- [Medium article](https://colab.research.google.com/corgiredirector?site=https%3A%2F%2Fmedium.com%2Fmlearning-ai%2Fhow-to-access-google-sheets-on-google-colaboratory-8766b3a0996f&link_redirector=1)\n",
        "- [gspread docs: Opening a spreadsheet](https://docs.gspread.org/en/latest/user-guide.html#opening-a-spreadsheet)"
      ],
      "metadata": {
        "id": "1y2-BwoKLX56"
      }
    },
    {
      "cell_type": "code",
      "source": [
        "from google.colab import auth\n",
        "auth.authenticate_user()\n",
        "# Login as the current Google user"
      ],
      "metadata": {
        "id": "utmRBiP6JVij"
      },
      "execution_count": null,
      "outputs": []
    },
    {
      "cell_type": "code",
      "source": [
        "import gspread\n",
        "from google.auth import default\n",
        "creds, _ = default()\n",
        "gc = gspread.authorize(creds)"
      ],
      "metadata": {
        "id": "z04melIxJB8h"
      },
      "execution_count": null,
      "outputs": []
    },
    {
      "cell_type": "code",
      "source": [
        "# Paste in the link of the spreadsheet (can be copy/pasted directly from address bar) and the specific page that you want.\n",
        "spreadsheet_key = ' FILL IN'\n",
        "worksheet_name = \"FILL IN\""
      ],
      "metadata": {
        "id": "8oyMpcooJhZk"
      },
      "execution_count": null,
      "outputs": []
    },
    {
      "cell_type": "code",
      "execution_count": null,
      "metadata": {
        "id": "8im3PZEAHtNa"
      },
      "outputs": [],
      "source": [
        "worksheet = gc.open_by_url(spreadsheet_key).worksheet(worksheet_name)\n",
        "rows = worksheet.get_all_values() #get_all_values gives a list of rows"
      ]
    },
    {
      "cell_type": "code",
      "source": [
        "import pandas as pd\n",
        "df = pd.DataFrame(rows) #Convert to a DataFrame\n",
        "display(df)"
      ],
      "metadata": {
        "id": "YgsFDMbAKHIj"
      },
      "execution_count": null,
      "outputs": []
    }
  ]
}
